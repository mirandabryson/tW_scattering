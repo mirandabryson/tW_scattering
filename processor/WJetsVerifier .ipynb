{
 "cells": [
  {
   "cell_type": "code",
   "execution_count": 1,
   "metadata": {},
   "outputs": [],
   "source": [
    "import os\n",
    "import time\n",
    "import glob\n",
    "import re\n",
    "from functools import reduce\n",
    "import numpy as np\n",
    "import uproot\n",
    "import uproot_methods\n",
    "import awkward\n",
    "import pandas as pd\n",
    "from klepto.archives import dir_archive\n",
    "\n",
    "\n",
    "import coffea.processor as processor\n",
    "from coffea.processor.accumulator import AccumulatorABC\n",
    "from coffea import hist\n",
    "from coffea.analysis_objects import JaggedCandidateArray\n",
    "\n",
    "%matplotlib inline\n",
    "import matplotlib.pyplot as plt"
   ]
  },
  {
   "cell_type": "code",
   "execution_count": 2,
   "metadata": {},
   "outputs": [
    {
     "name": "stderr",
     "output_type": "stream",
     "text": [
      "Using Theano backend.\n"
     ]
    }
   ],
   "source": [
    "def pad_and_flatten(val): \n",
    "    try:\n",
    "        return val.pad(1, clip=True).fillna(0.).flatten()#.reshape(-1, 1)\n",
    "    except AttributeError:\n",
    "        return val.flatten()\n",
    "\n",
    "#model = tf.keras.models.load_model('../ML/data/training.h5')#, custom_objects=None, compile=False)\n",
    "\n",
    "#model._make_predict_function()\n",
    "#graph = tf.get_default_graph()\n",
    "\n",
    "#def run_model(inputs):\n",
    "#    global graph\n",
    "#    with graph.as_default():\n",
    "#        outputs = model.predict(inputs)\n",
    "#    return outputs\n",
    "\n",
    "os.environ['KERAS_BACKEND'] = 'theano'\n",
    "from keras.models import load_model\n",
    "\n",
    "#model = load_model('../ML/data/training.h5')"
   ]
  },
  {
   "cell_type": "code",
   "execution_count": 3,
   "metadata": {},
   "outputs": [
    {
     "name": "stdout",
     "output_type": "stream",
     "text": [
      "10000\n"
     ]
    }
   ],
   "source": [
    "import sys\n",
    "sys.setrecursionlimit(10000)\n",
    "print(sys.getrecursionlimit())"
   ]
  },
  {
   "cell_type": "code",
   "execution_count": 4,
   "metadata": {},
   "outputs": [],
   "source": [
    "#Let's define our processor first. \n",
    "\n",
    "class WHhadProcessor(processor.ProcessorABC):\n",
    "    def __init__(self):\n",
    "    \n",
    "        #Great, now let's define some bins for our histograms.\n",
    "        \n",
    "        dataset_axis         = hist.Cat(\"dataset\", \"Primary dataset\")\n",
    "        pt_axis              = hist.Bin(\"pt\", r\"$p_{T}$ (GeV)\", 500, 0, 2000)\n",
    "        #pt_axis              = hist.Bin(\"pt\", r\"$p_{T}$ (GeV)\", 15, 0, 300)\n",
    "        multiplicity_axis    = hist.Bin(\"multiplicity\", r\"N\", 30, -0.5, 29.5)\n",
    "        phi_axis             = hist.Bin(\"phi\", r\"$\\Delta \\phi$\", 80, 0, 8)\n",
    "        mass_axis            = hist.Bin(\"mass\", r\"mass (GeV)\", 500, 0, 2000)\n",
    "        r_axis               = hist.Bin(\"r\", r\"$\\Delta R$\", 80, 0, 4)\n",
    "        score_axis           = hist.Bin(\"score\", r\"NN Score\", 10, 0, 1)\n",
    "\n",
    "\n",
    "        self._accumulator = processor.dict_accumulator({\n",
    "           \"met\":                               hist.Hist(\"Counts\", dataset_axis, pt_axis)\n",
    "        })\n",
    "\n",
    "    \n",
    "    @property\n",
    "    \n",
    "    def accumulator(self):\n",
    "        return self._accumulator\n",
    "\n",
    "    def process(self, df):\n",
    "     \n",
    "        \"\"\"\n",
    "        Processing function. This is where the actual analysis happens.\n",
    "        \"\"\"\n",
    "        output = self.accumulator.identity()\n",
    "        dataset = df[\"dataset\"]\n",
    "        #cfg = loadConfig()\n",
    "        \n",
    "        ## MET -> can switch to puppi MET\n",
    "        met_pt  = df[\"MET_pt\"]\n",
    "        met_phi = df[\"MET_phi\"]\n",
    "        \n",
    "        ## Muons\n",
    "        muon = JaggedCandidateArray.candidatesfromcounts(\n",
    "            df['nMuon'],\n",
    "            pt = df['Muon_pt'].content,\n",
    "            eta = df['Muon_eta'].content,\n",
    "            phi = df['Muon_phi'].content,\n",
    "            mass = df['Muon_mass'].content,\n",
    "            miniPFRelIso_all=df['Muon_miniPFRelIso_all'].content,\n",
    "            looseId =df['Muon_looseId'].content\n",
    "            )\n",
    "        muon = muon[(muon.pt > 10) & (abs(muon.eta) < 2.4) & (muon.looseId) & (muon.miniPFRelIso_all < 0.2)]\n",
    "        #muon = Collections(df, \"Muon\", \"tightTTH\").get() # this needs a fix for DASK\n",
    "        \n",
    "        electrons = JaggedCandidateArray.candidatesfromcounts(\n",
    "            df['nElectron'],\n",
    "            pt=df['Electron_pt'].content, \n",
    "            eta=df['Electron_eta'].content, \n",
    "            phi=df['Electron_phi'].content,\n",
    "            mass=df['Electron_mass'].content,\n",
    "            pdgid=df['Electron_pdgId'].content,\n",
    "            mini_iso=df['Electron_miniPFRelIso_all'].content\n",
    "        )\n",
    "        \n",
    "        ## Electrons\n",
    "        electron = JaggedCandidateArray.candidatesfromcounts(\n",
    "            df['nElectron'],\n",
    "            pt = df['Electron_pt'].content,\n",
    "            eta = df['Electron_eta'].content,\n",
    "            phi = df['Electron_phi'].content,\n",
    "            mass = df['Electron_mass'].content,\n",
    "            miniPFRelIso_all=df['Electron_miniPFRelIso_all'].content,\n",
    "            cutBased=df['Electron_cutBased'].content\n",
    "            )\n",
    "        electron = electron[(electron.pt>10) & (abs(electron.eta) < 2.4) & (electron.miniPFRelIso_all < 0.1) &  (electron.cutBased >= 1)]\n",
    "        #electron = Collections(df, \"Electron\", \"tightTTH\").get() # this needs a fix for DASK\n",
    "        \n",
    "        tau = JaggedCandidateArray.candidatesfromcounts(\n",
    "            df['nTau'],\n",
    "            pt=df['Tau_pt'].content, \n",
    "            eta=df['Tau_eta'].content, \n",
    "            phi=df['Tau_phi'].content,\n",
    "            mass=df['Tau_mass'].content,\n",
    "            decaymode=df['Tau_idDecayMode'].content,\n",
    "            newid=df['Tau_idMVAnewDM2017v2'].content,\n",
    "        )\n",
    "        tau = tau[(tau.pt > 20) & (abs(tau.eta) < 2.4) & (tau.decaymode) & (tau.newid >= 8)]\n",
    "        \n",
    "        isotrack = awkward.JaggedArray.zip(\n",
    "            pt=df['IsoTrack_pt'], \n",
    "            eta=df['IsoTrack_eta'], \n",
    "            phi=df['IsoTrack_phi'], \n",
    "            rel_iso=df['IsoTrack_pfRelIso03_all'], \n",
    "        )\n",
    "        isotrack = isotrack[(isotrack.pt > 10) & (abs(isotrack.eta) < 2.4) & ((isotrack.rel_iso < 0.1) | ((isotrack.rel_iso*isotrack.pt) < 6))]\n",
    "        \n",
    "        ## FatJets\n",
    "        fatjet = JaggedCandidateArray.candidatesfromcounts(\n",
    "            df['nFatJet'],\n",
    "            pt = df['FatJet_pt'].content,\n",
    "            eta = df['FatJet_eta'].content,\n",
    "            phi = df['FatJet_phi'].content,\n",
    "            mass = df['FatJet_mass'].content,\n",
    "            msoftdrop = df[\"FatJet_msoftdrop\"].content,  \n",
    "            deepTagMD_HbbvsQCD = df['FatJet_deepTagMD_HbbvsQCD'].content, \n",
    "            deepTagMD_WvsQCD = df['FatJet_deepTagMD_WvsQCD'].content, \n",
    "            deepTag_WvsQCD = df['FatJet_deepTag_WvsQCD'].content\n",
    "            \n",
    "        )\n",
    "       \n",
    "        ## Jets\n",
    "        jet = JaggedCandidateArray.candidatesfromcounts(\n",
    "            df['nJet'],\n",
    "            pt = df['Jet_pt'].content,\n",
    "            eta = df['Jet_eta'].content,\n",
    "            phi = df['Jet_phi'].content,\n",
    "            mass = df['Jet_mass'].content,\n",
    "            jetId = df['Jet_jetId'].content, # https://twiki.cern.ch/twiki/bin/view/CMS/JetID\n",
    "            #puId = df['Jet_puId'].content, # https://twiki.cern.ch/twiki/bin/viewauth/CMS/PileupJetID\n",
    "            btagDeepB = df['Jet_btagDeepB'].content, # https://twiki.cern.ch/twiki/bin/viewauth/CMS/BtagRecommendation102X\n",
    "            #deepJet = df['Jet_'].content # not there yet?\n",
    "        )\n",
    "        \n",
    "        jet       = jet[(jet.pt>30) & (jet.jetId>1) & (abs(jet.eta)<2.4)]\n",
    "        jet       = jet[~jet.match(muon, deltaRCut=0.4)] # remove jets that overlap with muons\n",
    "        jet       = jet[~jet.match(electron, deltaRCut=0.4)] # remove jets that overlap with electrons\n",
    "        jet       = jet[jet.pt.argsort(ascending=False)] # sort the jets\n",
    "        btag      = jet[(jet.btagDeepB>0.4184)]\n",
    "        light     = jet[(jet.btagDeepB<0.4184)]\n",
    "        \n",
    "\n",
    "        #Now it's time to make some selections.\n",
    "\n",
    "\n",
    "        bjet0_ps = (btag.counts==0)\n",
    "     \n",
    "    \n",
    "        e_sel = (electron.counts == 0)\n",
    "        m_sel = (muon.counts == 0)\n",
    "        it_sel = (isotrack.counts == 0)\n",
    "        t_sel = (tau.counts == 0)\n",
    "        #l_sel = e_sel & m_sel & it_sel & t_sel\n",
    "        l_sel = ((electron.counts + muon.counts) == 1)\n",
    "        l_veto = (e_sel & m_sel & t_sel & it_sel)\n",
    "        \n",
    "\n",
    "        inclCR = (l_sel & bjet0_ps) if dataset=='WJets_old' else (l_sel & bjet0_ps & (df['stitch']==1) )\n",
    "\n",
    "        #Let's make sure we weight our events properly.\n",
    "        #wght = df['weight'][sel] * 137\n",
    "        weight = df['weight']\n",
    "        lumi = 60\n",
    "\n",
    "        wghtCR = weight[inclCR] * lumi\n",
    " \n",
    "        \n",
    "        #Let's fill some histograms. \n",
    "       \n",
    "        output['met'].fill(dataset=dataset, pt=met_pt[inclCR].flatten(), weight=wghtCR)\n",
    "    \n",
    "        return output\n",
    "\n",
    "    \n",
    "    def postprocess(self, accumulator):\n",
    "        return accumulator"
   ]
  },
  {
   "cell_type": "code",
   "execution_count": 5,
   "metadata": {},
   "outputs": [
    {
     "data": {
      "application/vnd.jupyter.widget-view+json": {
       "model_id": "6093db3202634a8f8e76000e36a48639",
       "version_major": 2,
       "version_minor": 0
      },
      "text/html": [
       "<p>Failed to display Jupyter Widget of type <code>HBox</code>.</p>\n",
       "<p>\n",
       "  If you're reading this message in the Jupyter Notebook or JupyterLab Notebook, it may mean\n",
       "  that the widgets JavaScript is still loading. If this message persists, it\n",
       "  likely means that the widgets JavaScript library is either not installed or\n",
       "  not enabled. See the <a href=\"https://ipywidgets.readthedocs.io/en/stable/user_install.html\">Jupyter\n",
       "  Widgets Documentation</a> for setup instructions.\n",
       "</p>\n",
       "<p>\n",
       "  If you're reading this message in another frontend (for example, a static\n",
       "  rendering on GitHub or <a href=\"https://nbviewer.jupyter.org/\">NBViewer</a>),\n",
       "  it may mean that your frontend doesn't currently support widgets.\n",
       "</p>\n"
      ],
      "text/plain": [
       "HBox(children=(HTML(value='Preprocessing'), FloatProgress(value=0.0, max=142.0), HTML(value='')))"
      ]
     },
     "metadata": {},
     "output_type": "display_data"
    },
    {
     "name": "stdout",
     "output_type": "stream",
     "text": [
      "\n"
     ]
    },
    {
     "data": {
      "application/vnd.jupyter.widget-view+json": {
       "model_id": "498f663affa641a988c55aa41e1a18be",
       "version_major": 2,
       "version_minor": 0
      },
      "text/html": [
       "<p>Failed to display Jupyter Widget of type <code>HBox</code>.</p>\n",
       "<p>\n",
       "  If you're reading this message in the Jupyter Notebook or JupyterLab Notebook, it may mean\n",
       "  that the widgets JavaScript is still loading. If this message persists, it\n",
       "  likely means that the widgets JavaScript library is either not installed or\n",
       "  not enabled. See the <a href=\"https://ipywidgets.readthedocs.io/en/stable/user_install.html\">Jupyter\n",
       "  Widgets Documentation</a> for setup instructions.\n",
       "</p>\n",
       "<p>\n",
       "  If you're reading this message in another frontend (for example, a static\n",
       "  rendering on GitHub or <a href=\"https://nbviewer.jupyter.org/\">NBViewer</a>),\n",
       "  it may mean that your frontend doesn't currently support widgets.\n",
       "</p>\n"
      ],
      "text/plain": [
       "HBox(children=(HTML(value='Processing'), FloatProgress(value=0.0, max=163.0), HTML(value='')))"
      ]
     },
     "metadata": {},
     "output_type": "display_data"
    },
    {
     "name": "stdout",
     "output_type": "stream",
     "text": [
      "\n"
     ]
    }
   ],
   "source": [
    "fileset_W_2018 = {'WJets_old':glob.glob('/hadoop/cms/store/user/ksalyer/allHadTest/0p1p27/W1JetsToLNu_Tune*RunIIAutumn18*/*.root')\n",
    "             + glob.glob('/hadoop/cms/store/user/ksalyer/allHadTest/0p1p27/W2JetsToLNu_Tune*RunIIAutumn18*/*.root')\n",
    "             + glob.glob('/hadoop/cms/store/user/ksalyer/allHadTest/0p1p27/W4JetsToLNu_Tune*RunIIAutumn18*/*.root'),\n",
    "            'WJets_new': glob.glob('/hadoop/cms/store/user/ksalyer/allHadTest/0p1p31/W1JetsToLNu_*RunIIAutumn18*/*.root')\n",
    "            +glob.glob('/hadoop/cms/store/user/ksalyer/allHadTest/0p1p31/W2JetsToLNu_*RunIIAutumn18*/*.root')\n",
    "            +glob.glob('/hadoop/cms/store/user/ksalyer/allHadTest/0p1p31/W4JetsToLNu_*RunIIAutumn18*/*.root')}\n",
    "\n",
    "output_2018 = processor.run_uproot_job(fileset_W_2018,\n",
    "                                    treename='Events',\n",
    "                                    processor_instance=WHhadProcessor(),\n",
    "                                    executor=processor.futures_executor,\n",
    "                                    executor_args={'workers': 12, 'function_args': {'flatten': False}},\n",
    "                                    chunksize=500000,\n",
    "                                 )"
   ]
  },
  {
   "cell_type": "code",
   "execution_count": 14,
   "metadata": {},
   "outputs": [
    {
     "data": {
      "application/vnd.jupyter.widget-view+json": {
       "model_id": "2d11883f31f7444bb0a2a4b500b2c208",
       "version_major": 2,
       "version_minor": 0
      },
      "text/html": [
       "<p>Failed to display Jupyter Widget of type <code>HBox</code>.</p>\n",
       "<p>\n",
       "  If you're reading this message in the Jupyter Notebook or JupyterLab Notebook, it may mean\n",
       "  that the widgets JavaScript is still loading. If this message persists, it\n",
       "  likely means that the widgets JavaScript library is either not installed or\n",
       "  not enabled. See the <a href=\"https://ipywidgets.readthedocs.io/en/stable/user_install.html\">Jupyter\n",
       "  Widgets Documentation</a> for setup instructions.\n",
       "</p>\n",
       "<p>\n",
       "  If you're reading this message in another frontend (for example, a static\n",
       "  rendering on GitHub or <a href=\"https://nbviewer.jupyter.org/\">NBViewer</a>),\n",
       "  it may mean that your frontend doesn't currently support widgets.\n",
       "</p>\n"
      ],
      "text/plain": [
       "HBox(children=(HTML(value='Processing'), FloatProgress(value=0.0, max=126.0), HTML(value='')))"
      ]
     },
     "metadata": {},
     "output_type": "display_data"
    },
    {
     "name": "stdout",
     "output_type": "stream",
     "text": [
      "\n"
     ]
    }
   ],
   "source": [
    "# fileset_W_2017 = {'WJets_old':glob.glob('/hadoop/cms/store/user/ksalyer/allHadTest/0p1p27/W*JetsToLNu_Tune*RunIIFall17*/*.root'),\n",
    "#             'WJets_new': glob.glob('/hadoop/cms/store/user/ksalyer/allHadTest/0p1p31/W*JetsToLNu_*RunIIFall17*/*.root')}\n",
    "\n",
    "# output_2017 = processor.run_uproot_job(fileset_W_2017,\n",
    "#                                     treename='Events',\n",
    "#                                     processor_instance=WHhadProcessor(),\n",
    "#                                     executor=processor.futures_executor,\n",
    "#                                     executor_args={'workers': 12, 'function_args': {'flatten': False}},\n",
    "#                                     chunksize=500000,\n",
    "#                                  )"
   ]
  },
  {
   "cell_type": "code",
   "execution_count": 6,
   "metadata": {},
   "outputs": [],
   "source": [
    "wjets_err_opts_rat = {\n",
    "    'linestyle': 'none',\n",
    "    'marker': '.',\n",
    "    'markersize': 10.,\n",
    "    'color':'#8AC926',\n",
    "    'elinewidth': 1}\n",
    "\n",
    "lineOverlayOpts = {\n",
    "    'color': [('#1982C4'),('#F76F8E')]\n",
    "}\n",
    "\n",
    "outdir = \"/home/users/mbryson/public_html/dump/WH/kaitlin/\""
   ]
  },
  {
   "cell_type": "code",
   "execution_count": 7,
   "metadata": {},
   "outputs": [],
   "source": [
    "def saveoverlayshape(hists, outdir, name):\n",
    "    import re\n",
    "    wjets_old = hists['WJets_old']\n",
    "    wjets_new = hists['WJets_new']\n",
    "    \n",
    "    plt.rcParams.update({'font.size': 14,'axes.titlesize': 18,'axes.labelsize': 18,\n",
    "                         'xtick.labelsize': 12,'ytick.labelsize': 12})\n",
    "    fig, (ax, rax) = plt.subplots(nrows=2,ncols=1, figsize=(7,7),\n",
    "    gridspec_kw={\"height_ratios\": (3, 1)}, sharex=True)\n",
    "    fig.subplots_adjust(hspace=.07)\n",
    "    hist.plot1d(hists, overlay=\"dataset\",  ax=ax, clear=False, density = True, stack=False,\n",
    "                line_opts = lineOverlayOpts, overflow = 'over')\n",
    "    ax.set_yscale('log')\n",
    "    ax.set_ylim(0, 1)\n",
    "    ax.set_xlabel(None)\n",
    "    leg = ax.legend()\n",
    "    hist.plotratio(num=wjets_old.sum('dataset'), denom=wjets_new.sum('dataset'), ax=rax, clear = False,\n",
    "                   error_opts = wjets_err_opts_rat, denom_fill_opts={}, guide_opts={}, \n",
    "                   unc='num', overflow = 'over')\n",
    "    rax.set_ylim(0,2)\n",
    "    rax.set_ylabel('Ratio')\n",
    "    fig.savefig(os.path.join(outdir, \"{}_log.png\".format(name)))\n",
    "    fig.savefig(os.path.join(outdir, \"{}_log.pdf\".format(name)))\n",
    "    fig.clear()"
   ]
  },
  {
   "cell_type": "code",
   "execution_count": 8,
   "metadata": {},
   "outputs": [
    {
     "name": "stderr",
     "output_type": "stream",
     "text": [
      "/cvmfs/cms.cern.ch/slc6_amd64_gcc700/external/py2-ipykernel/4.8.2-gnimlf2/lib/python3.6/site-packages/ipykernel_launcher.py:14: UserWarning: Attempted to set non-positive bottom ylim on a log-scaled axis.\n",
      "Invalid limit will be ignored.\n",
      "  \n",
      "/cvmfs/cms.cern.ch/slc6_amd64_gcc700/external/py2-ipykernel/4.8.2-gnimlf2/lib/python3.6/site-packages/ipykernel_launcher.py:14: UserWarning: Attempted to set non-positive bottom ylim on a log-scaled axis.\n",
      "Invalid limit will be ignored.\n",
      "  \n",
      "/cvmfs/cms.cern.ch/slc6_amd64_gcc700/external/py2-ipykernel/4.8.2-gnimlf2/lib/python3.6/site-packages/ipykernel_launcher.py:14: UserWarning: Attempted to set non-positive bottom ylim on a log-scaled axis.\n",
      "Invalid limit will be ignored.\n",
      "  \n"
     ]
    },
    {
     "data": {
      "text/plain": [
       "<Figure size 504x504 with 0 Axes>"
      ]
     },
     "metadata": {},
     "output_type": "display_data"
    },
    {
     "data": {
      "text/plain": [
       "<Figure size 504x504 with 0 Axes>"
      ]
     },
     "metadata": {},
     "output_type": "display_data"
    },
    {
     "data": {
      "text/plain": [
       "<Figure size 504x504 with 0 Axes>"
      ]
     },
     "metadata": {},
     "output_type": "display_data"
    }
   ],
   "source": [
    "hists_2018 = output_2018[\"met\"]\n",
    "saveoverlayshape(hists_2018,outdir,\"MET_WJets_2018_norebin\")\n",
    "new_pt18_bins1 = hist.Bin('pt',r'MET',40,200,1000)\n",
    "hists_2018 = hists_2018.rebin('pt',new_pt18_bins1)\n",
    "saveoverlayshape(hists_2018,outdir,\"MET_WJets_2018_40bin\")\n",
    "new_pt18_bins = hist.Bin('pt',r'MET',20,200,1000)\n",
    "hists_2018 = hists_2018.rebin('pt',new_pt18_bins)\n",
    "saveoverlayshape(hists_2018,outdir,\"MET_WJets_2018_20bin\")"
   ]
  },
  {
   "cell_type": "code",
   "execution_count": 24,
   "metadata": {},
   "outputs": [
    {
     "name": "stderr",
     "output_type": "stream",
     "text": [
      "/cvmfs/cms.cern.ch/slc6_amd64_gcc700/external/py2-ipykernel/4.8.2-gnimlf2/lib/python3.6/site-packages/ipykernel_launcher.py:14: UserWarning: Attempted to set non-positive bottom ylim on a log-scaled axis.\n",
      "Invalid limit will be ignored.\n",
      "  \n"
     ]
    },
    {
     "ename": "KeyError",
     "evalue": "()",
     "output_type": "error",
     "traceback": [
      "\u001b[0;31m---------------------------------------------------------------------------\u001b[0m",
      "\u001b[0;31mKeyError\u001b[0m                                  Traceback (most recent call last)",
      "\u001b[0;32m<ipython-input-24-d691c80c4426>\u001b[0m in \u001b[0;36m<module>\u001b[0;34m()\u001b[0m\n\u001b[1;32m      2\u001b[0m \u001b[0mnew_pt17_bins\u001b[0m \u001b[0;34m=\u001b[0m \u001b[0mhist\u001b[0m\u001b[0;34m.\u001b[0m\u001b[0mBin\u001b[0m\u001b[0;34m(\u001b[0m\u001b[0;34m'pt'\u001b[0m\u001b[0;34m,\u001b[0m\u001b[0;34mr'MET'\u001b[0m\u001b[0;34m,\u001b[0m\u001b[0;36m20\u001b[0m\u001b[0;34m,\u001b[0m\u001b[0;36m200\u001b[0m\u001b[0;34m,\u001b[0m\u001b[0;36m1000\u001b[0m\u001b[0;34m)\u001b[0m\u001b[0;34m\u001b[0m\u001b[0m\n\u001b[1;32m      3\u001b[0m \u001b[0mhists_2017\u001b[0m \u001b[0;34m=\u001b[0m \u001b[0mhists_2017\u001b[0m\u001b[0;34m.\u001b[0m\u001b[0mrebin\u001b[0m\u001b[0;34m(\u001b[0m\u001b[0;34m'pt'\u001b[0m\u001b[0;34m,\u001b[0m\u001b[0mnew_pt17_bins\u001b[0m\u001b[0;34m)\u001b[0m\u001b[0;34m\u001b[0m\u001b[0m\n\u001b[0;32m----> 4\u001b[0;31m \u001b[0msaveoverlayshape\u001b[0m\u001b[0;34m(\u001b[0m\u001b[0mhists_2017\u001b[0m\u001b[0;34m,\u001b[0m \u001b[0moutdir\u001b[0m\u001b[0;34m,\u001b[0m\u001b[0;34m\"MET_WJets_2017\"\u001b[0m\u001b[0;34m)\u001b[0m\u001b[0;34m\u001b[0m\u001b[0m\n\u001b[0m",
      "\u001b[0;32m<ipython-input-16-9244ab9bf80f>\u001b[0m in \u001b[0;36msaveoverlayshape\u001b[0;34m(hists, outdir, name)\u001b[0m\n\u001b[1;32m     17\u001b[0m     hist.plotratio(num=wjets_old.sum('dataset'), denom=wjets_new.sum('dataset'), ax=rax, clear = False,\n\u001b[1;32m     18\u001b[0m                    \u001b[0merror_opts\u001b[0m \u001b[0;34m=\u001b[0m \u001b[0mwjets_err_opts_rat\u001b[0m\u001b[0;34m,\u001b[0m \u001b[0mdenom_fill_opts\u001b[0m\u001b[0;34m=\u001b[0m\u001b[0;34m{\u001b[0m\u001b[0;34m}\u001b[0m\u001b[0;34m,\u001b[0m \u001b[0mguide_opts\u001b[0m\u001b[0;34m=\u001b[0m\u001b[0;34m{\u001b[0m\u001b[0;34m}\u001b[0m\u001b[0;34m,\u001b[0m\u001b[0;34m\u001b[0m\u001b[0m\n\u001b[0;32m---> 19\u001b[0;31m                    unc='num', overflow = 'over')\n\u001b[0m\u001b[1;32m     20\u001b[0m     \u001b[0mrax\u001b[0m\u001b[0;34m.\u001b[0m\u001b[0mset_ylim\u001b[0m\u001b[0;34m(\u001b[0m\u001b[0;36m0\u001b[0m\u001b[0;34m,\u001b[0m\u001b[0;36m2\u001b[0m\u001b[0;34m)\u001b[0m\u001b[0;34m\u001b[0m\u001b[0m\n\u001b[1;32m     21\u001b[0m     \u001b[0mrax\u001b[0m\u001b[0;34m.\u001b[0m\u001b[0mset_ylabel\u001b[0m\u001b[0;34m(\u001b[0m\u001b[0;34m'Ratio'\u001b[0m\u001b[0;34m)\u001b[0m\u001b[0;34m\u001b[0m\u001b[0m\n",
      "\u001b[0;32m/home/users/mbryson/CMSSW_10_2_9/src/tW_scattering/coffeaEnv/lib/python3.6/site-packages/coffea/hist/plot.py\u001b[0m in \u001b[0;36mplotratio\u001b[0;34m(num, denom, ax, clear, overflow, error_opts, denom_fill_opts, guide_opts, unc, label)\u001b[0m\n\u001b[1;32m    352\u001b[0m         \u001b[0mcenters\u001b[0m \u001b[0;34m=\u001b[0m \u001b[0maxis\u001b[0m\u001b[0;34m.\u001b[0m\u001b[0mcenters\u001b[0m\u001b[0;34m(\u001b[0m\u001b[0moverflow\u001b[0m\u001b[0;34m=\u001b[0m\u001b[0moverflow\u001b[0m\u001b[0;34m)\u001b[0m\u001b[0;34m\u001b[0m\u001b[0m\n\u001b[1;32m    353\u001b[0m \u001b[0;34m\u001b[0m\u001b[0m\n\u001b[0;32m--> 354\u001b[0;31m         \u001b[0msumw_num\u001b[0m\u001b[0;34m,\u001b[0m \u001b[0msumw2_num\u001b[0m \u001b[0;34m=\u001b[0m \u001b[0mnum\u001b[0m\u001b[0;34m.\u001b[0m\u001b[0mvalues\u001b[0m\u001b[0;34m(\u001b[0m\u001b[0msumw2\u001b[0m\u001b[0;34m=\u001b[0m\u001b[0;32mTrue\u001b[0m\u001b[0;34m,\u001b[0m \u001b[0moverflow\u001b[0m\u001b[0;34m=\u001b[0m\u001b[0moverflow\u001b[0m\u001b[0;34m)\u001b[0m\u001b[0;34m[\u001b[0m\u001b[0;34m(\u001b[0m\u001b[0;34m)\u001b[0m\u001b[0;34m]\u001b[0m\u001b[0;34m\u001b[0m\u001b[0m\n\u001b[0m\u001b[1;32m    355\u001b[0m         \u001b[0msumw_denom\u001b[0m\u001b[0;34m,\u001b[0m \u001b[0msumw2_denom\u001b[0m \u001b[0;34m=\u001b[0m \u001b[0mdenom\u001b[0m\u001b[0;34m.\u001b[0m\u001b[0mvalues\u001b[0m\u001b[0;34m(\u001b[0m\u001b[0msumw2\u001b[0m\u001b[0;34m=\u001b[0m\u001b[0;32mTrue\u001b[0m\u001b[0;34m,\u001b[0m \u001b[0moverflow\u001b[0m\u001b[0;34m=\u001b[0m\u001b[0moverflow\u001b[0m\u001b[0;34m)\u001b[0m\u001b[0;34m[\u001b[0m\u001b[0;34m(\u001b[0m\u001b[0;34m)\u001b[0m\u001b[0;34m]\u001b[0m\u001b[0;34m\u001b[0m\u001b[0m\n\u001b[1;32m    356\u001b[0m \u001b[0;34m\u001b[0m\u001b[0m\n",
      "\u001b[0;31mKeyError\u001b[0m: ()"
     ]
    },
    {
     "data": {
      "image/png": "[encoded data removed]",
      "text/plain": [
       "<Figure size 504x504 with 2 Axes>"
      ]
     },
     "metadata": {},
     "output_type": "display_data"
    }
   ],
   "source": [
    "# hists_2017 = output_2017[\"met\"]\n",
    "# new_pt17_bins = hist.Bin('pt',r'MET',20,200,1000)\n",
    "# hists_2017 = hists_2017.rebin('pt',new_pt17_bins)\n",
    "# saveoverlayshape(hists_2017, outdir,\"MET_WJets_2017\")"
   ]
  },
  {
   "cell_type": "code",
   "execution_count": null,
   "metadata": {},
   "outputs": [],
   "source": []
  }
 ],
 "metadata": {
  "kernelspec": {
   "display_name": "coffeaEnv",
   "language": "python",
   "name": "coffeaenv"
  },
  "language_info": {
   "codemirror_mode": {
    "name": "ipython",
    "version": 3
   },
   "file_extension": ".py",
   "mimetype": "text/x-python",
   "name": "python",
   "nbconvert_exporter": "python",
   "pygments_lexer": "ipython3",
   "version": "3.6.4"
  }
 },
 "nbformat": 4,
 "nbformat_minor": 2
}
